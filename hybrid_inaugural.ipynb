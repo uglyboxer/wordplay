{
 "cells": [
  {
   "cell_type": "markdown",
   "metadata": {},
   "source": [
    "## Text Generation"
   ]
  },
  {
   "cell_type": "markdown",
   "metadata": {},
   "source": [
    "#### Clone the repo:\n",
    "#### https://github.com/uglyboxer/wordplay.git\n",
    "\n",
    "#### Install NLTK (for the tokenizer)\n",
    "    \n",
    "    $ conda install nltk \n",
    "\n",
    "or\n",
    "\n",
    "    $ pip install nltk\n"
   ]
  },
  {
   "cell_type": "markdown",
   "metadata": {},
   "source": [
    "## Inaugural Addresses\n",
    "#### Let's make a new one."
   ]
  },
  {
   "cell_type": "code",
   "execution_count": 2,
   "metadata": {
    "collapsed": false,
    "scrolled": true
   },
   "outputs": [],
   "source": [
    "from nltk.tokenize import word_tokenize\n",
    "from collections import defaultdict\n",
    "import random\n",
    "import glob\n",
    "import re"
   ]
  },
  {
   "cell_type": "markdown",
   "metadata": {},
   "source": [
    "#### Create a dictionary of every word,as keys, and a list of every word that follows each of those as the value.  It is important that words appear repeatedly in the value \"list\".\n",
    "\n",
    "#### glob is a Python package for reading multiple files.  Just point the second line below to the directory of example text files.  Inaugural is included in the repo."
   ]
  },
  {
   "cell_type": "code",
   "execution_count": 3,
   "metadata": {
    "collapsed": false
   },
   "outputs": [],
   "source": [
    "d = defaultdict(list)\n",
    "for filename in glob.glob('inaugural/*.txt'):\n",
    "    with open(filename, 'r') as g:\n",
    "        read_data = g.read()\n",
    "    words = word_tokenize(read_data)\n",
    "    words = [word.lower() for word in words]\n",
    "    for pair in zip(words, words[1:]):\n",
    "        d[pair[0]] = d[pair[0]] + [pair[1]]"
   ]
  },
  {
   "cell_type": "markdown",
   "metadata": {},
   "source": [
    "#### Construct new speech."
   ]
  },
  {
   "cell_type": "code",
   "execution_count": 5,
   "metadata": {
    "collapsed": false
   },
   "outputs": [],
   "source": [
    "desired_length = 1200\n",
    "word = 'fellow'  # Choose the word to start the generation with\n",
    "sentence = ['my fellow'] # Manually add the starting word to the sentence.\n",
    "counter = 0\n",
    "while word and counter < desired_length:\n",
    "    if len(d[word]) > 0:\n",
    "        new_word = random.choice(d[word])\n",
    "        sentence += [new_word]\n",
    "        word = new_word\n",
    "    counter += 1\n",
    "sent = ' '.join(sentence)"
   ]
  },
  {
   "cell_type": "markdown",
   "metadata": {},
   "source": [
    "#### Clean up errant spaces and add sentence capitalization."
   ]
  },
  {
   "cell_type": "code",
   "execution_count": 6,
   "metadata": {
    "collapsed": false
   },
   "outputs": [],
   "source": [
    "sent = re.sub(r\"\\s,\", \",\", sent)\n",
    "sent = re.sub(r\"\\s\\.\", \".\", sent)\n",
    "sent = re.sub(r\"\\s;\", \";\", sent)\n",
    "sent = re.sub(r\"\\s\\?\", \"?\", sent)\n",
    "sent = re.sub(r\"\\s\\:\", \":\", sent)\n",
    "sent = re.sub(r\"\\s\\!\", \"!\", sent)\n",
    "sent.replace(\"`` \", \"\")\n",
    "sent = '. '.join(map(lambda s: s.strip().capitalize(), sent.split('.')))\n",
    "sent += '.'"
   ]
  },
  {
   "cell_type": "code",
   "execution_count": 8,
   "metadata": {
    "collapsed": false
   },
   "outputs": [
    {
     "data": {
      "text/plain": [
       "\"My fellow servants, which the benign sway peace. Dulled conscience or honor to promote that you have helped, not wronged and secured by others. And all mankind; and preparations, comprehending the upbuilding of faith in devising schemes to the business conditions are free of gallant exploits without finding much swayed this nation and abundance, and ample evidence that involves the inspirations of peace of the country, because they have no spectacle does not well renew our people will be done in what has augmented population has increased feeling between north atlantic seaboard, and discriminations against the government. The dangers defined our share of a devotion which they have been each of peace we are ready to be so often of one day to the executive departments to expect us and our own thinking that no party was immediately checked. Our judgment than that i assume the comforts adds to us. Today i see that old and where peaceable remedies for every blow the states. Their federal; the microchip; we have latterly looked after and the question to me of the spirit of government which the possibility of duties toward self-government can build better feeling of the future. Inconsiderable in previous history. Besides the people must involve us. But of the utmost of the hills, and locks, but only stir and our forefathers faced by him to all seasons brought at home that men. In this great gift of the will and here is not a republican institutions throughout the visitation of just proportion, while the task is contrary to and the lives that tendency of any friendly legislation by a spirit of the certain specific appropriation of foreign nations of the last we will and new worlds to be accomplished by patent. '' are we must rise above the functions allotted to those shrines to a surrender of respect the things from no one precious and justice, and powerful in their poverty will build the policy, the great associates. Ours for power to every american people 's best support against all our lives. By the world, is much to the voice of the hopes and neighborhood were once given of a single good, we should not separate views firmly convinced me in our neighbors, long as superfluous. The mystical province of emotions which separate states has disappeared in the way for him who might never their confidence in the affections of our nation, we are powerless to promote their parts! all humanity and approval or to enter upon us now in. Societies can limit the use power, to be pursued appears to reconsider, struggling to be promoted by the journey among nations. Humanity in perfect union, and honorable termination. At home manufactures, i despair did our economy. New beginning is the revenues of his blessings upon occasion. Vitality to other are sacredly preserving the public expense, however feeble the cup of wheat in our people. I am unafraid, we elect what we strive across the sincerest sympathy and intelligent, can not been chosen to the security for eight years ago against each in the people. Powerful nation i must act for our common labor. In the front from our recent demonstration of our thought, because we need any interior from the body to decrease, the people and which, being a moment my countrymen of law, we can be always avoid the back within the rod of the blood and effective legislative body of the sole responsibility, and orphans. The markets in freedom is the building up in the departments have become extinct? still at the mere success which was immense aggregations of our onward march to be said of this broad scope of violence, no generation must depend the future, strong sanctions to support of the hand when one other continents of this we may be kept pace of the highest standards here to the dark days that any friendly relations of any assault upon the states governments in which left us in my attention of the facilities for self-government is vested in the constitution and support of american people of that qualification which is eminently befitting the united states where a citizen his purpose and who have been favorably exemplified by infusing into advance toward light that element common defense arrangement within my country so deep solicitude. Great political freedom. Economic security and, in the domestic interests. We should be thwarted by citizens of every unfavorable circumstances of power. They have a new beginning of domestic, and protect, showering upon the globe. The solace of all necessary for total sacrifice of its administration, but sustained by him who have been called a minority of this danger to protect the peace and of confidence from it is absurd to be otherwise than another labor may be the path before. They are amply sufficient strength and relieve my fellow citizens of population. It, reasonably expected on the triple tie of a productive capacity of florida too, and criminal mind and amount of all are not studied cost of our own affairs of faithful and jars incident to that accomplishment of what art, in ushering in a great nation, it has laid at different names are also implies, and their real opportunity. What your powers not be expected that bind it possible in the executive as our country should we are involved whether this assembly of our hearts is now, for it should then we wish for every generation in mine coal and from every reason to both spirituality and fidelity indispensable nation, prideful in name of humanity enjoins us free thought of all such legislation of the workshop, been advocated for the aged and the same american life -- to support. We must take, had. They have thence too, there are general government ( inheriting inferior quality and domestic comforts, not as high duties as it is right direction in us restore their rights of person thus suggestive and it is a people, stability, questing, government with a people on this vast tonnage on the remaining unadjusted. Those who shall receive the union by the more than westward; there is human heart of the treaty of the timid and it concerns. I take. There may be thought wrong with those small, with all its benefits, in regard for security of combinations of liberty, though fortunate be no longer need further measures of our ideals. A moment and the people. Courage to this difficult years a thing. We may that the luxuries? for those of observation or disorder. They are face of our government in the executive the government and forms of the freedom is down the.\""
      ]
     },
     "execution_count": 8,
     "metadata": {},
     "output_type": "execute_result"
    }
   ],
   "source": [
    "sent"
   ]
  },
  {
   "cell_type": "markdown",
   "metadata": {},
   "source": [
    "#### And an attempt with a grammar checker.\n",
    "\n",
    "    pip install language_check\n",
    "or\n",
    "\n",
    "    conda install language_check"
   ]
  },
  {
   "cell_type": "code",
   "execution_count": 9,
   "metadata": {
    "collapsed": true
   },
   "outputs": [],
   "source": [
    "import language_check"
   ]
  },
  {
   "cell_type": "code",
   "execution_count": 10,
   "metadata": {
    "collapsed": false
   },
   "outputs": [
    {
     "name": "stdout",
     "output_type": "stream",
     "text": [
      "My fellow servants, which the benign sway peace. Dulled conscience or honor to promote that you have helped, not wronged and secured by others. And all mankind; and preparations, comprehending the upbuilding of faith in devising schemes to the business conditions are free of gallant exploits without finding much swayed this nation and abundance, and ample evidence that involves the inspirations of peace of the country, because they have no spectacle does not well renew our people will be done in what has augmented population has increased feeling between north atlantic seaboard, and discriminations against the government. The dangers defined our share of a devotion which they have been each of peace we are ready to be so often of one day to the executive departments to expect us and our own thinking that no party was immediately checked. Our judgment than that i assume the comforts adds to us. Today i see that old and where peaceable remedies for every blow the states. Their federal; the microchip; we have latterly looked after and the question to me of the spirit of government which the possibility of duties toward self-government can build better feeling of the future. Inconsiderable in previous history. Besides the people must involve us. But of the utmost of the hills, and locks, but only stir and our forefathers faced by him to all seasons brought at home that men. In this great gift of the will and here is not a republican institutions throughout the visitation of just proportion, while the task is contrary to and the lives that tendency of any friendly legislation by a spirit of the certain specific appropriation of foreign nations of the last we will and new worlds to be accomplished by patent. '' are we must rise above the functions allotted to those shrines to a surrender of respect the things from no one precious and justice, and powerful in their poverty will build the policy, the great associates. Ours for power to every american people 's best support against all our lives. By the world, is much to the voice of the hopes and neighborhood were once given of a single good, we should not separate views firmly convinced me in our neighbors, long as superfluous. The mystical province of emotions which separate states has disappeared in the way for him who might never their confidence in the affections of our nation, we are powerless to promote their parts! all humanity and approval or to enter upon us now in. Societies can limit the use power, to be pursued appears to reconsider, struggling to be promoted by the journey among nations. Humanity in perfect union, and honorable termination. At home manufactures, i despair did our economy. New beginning is the revenues of his blessings upon occasion. Vitality to other are sacredly preserving the public expense, however feeble the cup of wheat in our people. I am unafraid, we elect what we strive across the sincerest sympathy and intelligent, can not been chosen to the security for eight years ago against each in the people. Powerful nation i must act for our common labor. In the front from our recent demonstration of our thought, because we need any interior from the body to decrease, the people and which, being a moment my countrymen of law, we can be always avoid the back within the rod of the blood and effective legislative body of the sole responsibility, and orphans. The markets in freedom is the building up in the departments have become extinct? still at the mere success which was immense aggregations of our onward march to be said of this broad scope of violence, no generation must depend the future, strong sanctions to support of the hand when one other continents of this we may be kept pace of the highest standards here to the dark days that any friendly relations of any assault upon the states governments in which left us in my attention of the facilities for self-government is vested in the constitution and support of american people of that qualification which is eminently befitting the united states where a citizen his purpose and who have been favorably exemplified by infusing into advance toward light that element common defense arrangement within my country so deep solicitude. Great political freedom. Economic security and, in the domestic interests. We should be thwarted by citizens of every unfavorable circumstances of power. They have a new beginning of domestic, and protect, showering upon the globe. The solace of all necessary for total sacrifice of its administration, but sustained by him who have been called a minority of this danger to protect the peace and of confidence from it is absurd to be otherwise than another labor may be the path before. They are amply sufficient strength and relieve my fellow citizens of population. It, reasonably expected on the triple tie of a productive capacity of florida too, and criminal mind and amount of all are not studied cost of our own affairs of faithful and jars incident to that accomplishment of what art, in ushering in a great nation, it has laid at different names are also implies, and their real opportunity. What your powers not be expected that bind it possible in the executive as our country should we are involved whether this assembly of our hearts is now, for it should then we wish for every generation in mine coal and from every reason to both spirituality and fidelity indispensable nation, prideful in name of humanity enjoins us free thought of all such legislation of the workshop, been advocated for the aged and the same american life -- to support. We must take, had. They have thence too, there are general government ( inheriting inferior quality and domestic comforts, not as high duties as it is right direction in us restore their rights of person thus suggestive and it is a people, stability, questing, government with a people on this vast tonnage on the remaining unadjusted. Those who shall receive the union by the more than westward; there is human heart of the treaty of the timid and it concerns. I take. There may be thought wrong with those small, with all its benefits, in regard for security of combinations of liberty, though fortunate be no longer need further measures of our ideals. A moment and the people. Courage to this difficult years a thing. We may that the luxuries? for those of observation or disorder. They are face of our government in the executive the government and forms of the freedom is down the.\n",
      "['My fellow servants, which the benign sway peace', ' Dulled conscience or honor to promote that you have helped, not wronged and secured by others', ' And all mankind; and preparations, comprehending the upbuilding of faith in devising schemes to the business conditions are free of gallant exploits without finding much swayed this nation and abundance, and ample evidence that involves the inspirations of peace of the country, because they have no spectacle does not well renew our people will be done in what has augmented population has increased feeling between north atlantic seaboard, and discriminations against the government', ' The dangers defined our share of a devotion which they have been each of peace we are ready to be so often of one day to the executive departments to expect us and our own thinking that no party was immediately checked', ' Our judgment than that i assume the comforts adds to us', ' Today i see that old and where peaceable remedies for every blow the states', ' Their federal; the microchip; we have latterly looked after and the question to me of the spirit of government which the possibility of duties toward self-government can build better feeling of the future', ' Inconsiderable in previous history', ' Besides the people must involve us', ' But of the utmost of the hills, and locks, but only stir and our forefathers faced by him to all seasons brought at home that men', ' In this great gift of the will and here is not a republican institutions throughout the visitation of just proportion, while the task is contrary to and the lives that tendency of any friendly legislation by a spirit of the certain specific appropriation of foreign nations of the last we will and new worlds to be accomplished by patent', \" '' are we must rise above the functions allotted to those shrines to a surrender of respect the things from no one precious and justice, and powerful in their poverty will build the policy, the great associates\", \" Ours for power to every american people 's best support against all our lives\", ' By the world, is much to the voice of the hopes and neighborhood were once given of a single good, we should not separate views firmly convinced me in our neighbors, long as superfluous', ' The mystical province of emotions which separate states has disappeared in the way for him who might never their confidence in the affections of our nation, we are powerless to promote their parts! all humanity and approval or to enter upon us now in', ' Societies can limit the use power, to be pursued appears to reconsider, struggling to be promoted by the journey among nations', ' Humanity in perfect union, and honorable termination', ' At home manufactures, i despair did our economy', ' New beginning is the revenues of his blessings upon occasion', ' Vitality to other are sacredly preserving the public expense, however feeble the cup of wheat in our people', ' I am unafraid, we elect what we strive across the sincerest sympathy and intelligent, can not been chosen to the security for eight years ago against each in the people', ' Powerful nation i must act for our common labor', ' In the front from our recent demonstration of our thought, because we need any interior from the body to decrease, the people and which, being a moment my countrymen of law, we can be always avoid the back within the rod of the blood and effective legislative body of the sole responsibility, and orphans', ' The markets in freedom is the building up in the departments have become extinct? still at the mere success which was immense aggregations of our onward march to be said of this broad scope of violence, no generation must depend the future, strong sanctions to support of the hand when one other continents of this we may be kept pace of the highest standards here to the dark days that any friendly relations of any assault upon the states governments in which left us in my attention of the facilities for self-government is vested in the constitution and support of american people of that qualification which is eminently befitting the united states where a citizen his purpose and who have been favorably exemplified by infusing into advance toward light that element common defense arrangement within my country so deep solicitude', ' Great political freedom', ' Economic security and, in the domestic interests', ' We should be thwarted by citizens of every unfavorable circumstances of power', ' They have a new beginning of domestic, and protect, showering upon the globe', ' The solace of all necessary for total sacrifice of its administration, but sustained by him who have been called a minority of this danger to protect the peace and of confidence from it is absurd to be otherwise than another labor may be the path before', ' They are amply sufficient strength and relieve my fellow citizens of population', ' It, reasonably expected on the triple tie of a productive capacity of florida too, and criminal mind and amount of all are not studied cost of our own affairs of faithful and jars incident to that accomplishment of what art, in ushering in a great nation, it has laid at different names are also implies, and their real opportunity', ' What your powers not be expected that bind it possible in the executive as our country should we are involved whether this assembly of our hearts is now, for it should then we wish for every generation in mine coal and from every reason to both spirituality and fidelity indispensable nation, prideful in name of humanity enjoins us free thought of all such legislation of the workshop, been advocated for the aged and the same american life -- to support', ' We must take, had', ' They have thence too, there are general government ( inheriting inferior quality and domestic comforts, not as high duties as it is right direction in us restore their rights of person thus suggestive and it is a people, stability, questing, government with a people on this vast tonnage on the remaining unadjusted', ' Those who shall receive the union by the more than westward; there is human heart of the treaty of the timid and it concerns', ' I take', ' There may be thought wrong with those small, with all its benefits, in regard for security of combinations of liberty, though fortunate be no longer need further measures of our ideals', ' A moment and the people', ' Courage to this difficult years a thing', ' We may that the luxuries? for those of observation or disorder', ' They are face of our government in the executive the government and forms of the freedom is down the', '']\n"
     ]
    }
   ],
   "source": [
    "print(sent)\n",
    "sent = sent.split('.')\n",
    "print(sent)\n",
    "tool = language_check.LanguageTool('en-US')\n",
    "new_sent = []\n",
    "for s in sent:\n",
    "    matches = tool.check(s)\n",
    "    if len(matches) == 0:\n",
    "        new_sent.append(s)\n",
    "sent = \". \".join(new_sent)"
   ]
  },
  {
   "cell_type": "markdown",
   "metadata": {},
   "source": [
    "#### And if Shakespeare did a brain dump.\n",
    "\n",
    "#### Might need to download nltk corpus"
   ]
  },
  {
   "cell_type": "code",
   "execution_count": 11,
   "metadata": {
    "collapsed": false
   },
   "outputs": [],
   "source": [
    "from nltk.corpus import shakespeare\n"
   ]
  },
  {
   "cell_type": "code",
   "execution_count": 12,
   "metadata": {
    "collapsed": false
   },
   "outputs": [],
   "source": [
    "words = shakespeare.words(\"Macbeth.xml\")\n",
    "words += shakespeare.words(\"othello.xml\")\n",
    "words += shakespeare.words(\"a_and_c.xml\")\n",
    "words += shakespeare.words(\"dream.xml\")\n",
    "words += shakespeare.words(\"hamlet.xml\")\n",
    "words += shakespeare.words(\"j_caesar.xml\")\n",
    "words += shakespeare.words(\"merchant.xml\")\n",
    "words += shakespeare.words(\"r_and_j.xml\")"
   ]
  },
  {
   "cell_type": "code",
   "execution_count": 13,
   "metadata": {
    "collapsed": false
   },
   "outputs": [],
   "source": [
    "d = defaultdict(list)\n",
    "words = [word.lower() for word in words]\n",
    "for pair in zip(words, words[1:]):\n",
    "    d[pair[0]] = d[pair[0]] + [pair[1]]\n"
   ]
  },
  {
   "cell_type": "code",
   "execution_count": 14,
   "metadata": {
    "collapsed": false
   },
   "outputs": [],
   "source": [
    "\n",
    "word = 'macbeth'\n",
    "sentence = ['macbeth']\n",
    "counter = 0\n",
    "while word and counter < 1200:\n",
    "    if len(d[word]) > 0:\n",
    "        new_word = random.choice(d[word])\n",
    "        sentence += [new_word]\n",
    "        word = new_word\n",
    "    counter += 1\n",
    "sent = ' '.join(sentence)\n",
    "\n",
    "sent = re.sub(r\"\\s,\", \",\", sent)\n",
    "sent = re.sub(r\"\\s\\.\", \".\", sent)\n",
    "sent = re.sub(r\"\\s;\", \";\", sent)\n",
    "sent = re.sub(r\"\\s\\?\", \"?\", sent)\n",
    "sent = re.sub(r\"\\s\\:\", \":\", sent)\n",
    "sent = re.sub(r\"\\s\\!\", \"!\", sent)\n",
    "sent.replace(\"`` \", \"\")\n",
    "sent = '. '.join(map(lambda s: s.strip().capitalize(), sent.split('.')))\n",
    "sent += '.'\n"
   ]
  },
  {
   "cell_type": "code",
   "execution_count": 15,
   "metadata": {
    "collapsed": false
   },
   "outputs": [
    {
     "data": {
      "text/plain": [
       "\"Macbeth why, and i have ' tis a sad brows, a play the ring from him -- if ' er - cousins are too hot and love. Rome, i have you, the flighty purpose. No more in my capacity. Look, brother cassius have my hard but let them all! uncomfortable time, a brain doth temperately keep counsel and hippolyta four year, i ' s daughter, for necessity, my youth old swearing! what you hear thee. Emilia never heard a blinking idiot, bear ' s honest action speaks home to speak with that thursday were you well the kings of sorrow, in unusual pleasure in their hips and wash your choice? call ' s kisses by no more willingly give these -- not see not show of tune, so tyrannous hate him, in limbs: his means of love allow ' s person can, guildenstern believe the hill: i shall be men. Macbeth, a pleasing shape that the unworthiest siege of his present hour she made it is thought to my cheeks which was going, and children, you, my cell, and thou wilt thou art or, what further the housekeeper, would be watchers. Benvolio die: for my queen gertrude, then this world. Enter shylock three of all my doubts, my part at, cannot, and betimes in, my gossip ' d to spy out on the blossoms of the rich in summer ' tis good service of him. Cassio. What? horatio,-- while here, or an apothecary. Domitius enobarbus our strength: these boasts can well! desdemona; to write may be in thee gone. Ophelia my lord. Nurse? brutus now -- is a fashion and night my oration fairly spoke thus she deceives me, but, when we list his rage with some poison, my privilege of him token. Iago! run hence will no end is sized, beware my master, and tell you to be grasped thus; no: the turks are quick - hail! where i follow to make a quarrel, cassio enter capulet and cry of india? portia, though he was but lest with respect i must take aught but what is spied him have sent this sword of athens. Theseus pyramus and bid you doubt some heavenly powers, mounsieur, tell him cable. Receive it. Guildenstern, which before, if he slew the emperor, and that fills it shall outstrike thought will be, what ' s souls; but want, lost his foul disproportion ' t, lets go, what is it will use them well; but a name, malicious, upon your youth, with fear, antony and an exposition of a round even at a friend on your grace shall to - pastoral, look on the mortal wretch would forget that his lightness. Good gentlemen, help me tell me; we cuckolds ere i presently amend it to be taken off: leave to poise another antony. Theseus his cheques, what does not that he hath given me, with affection, the pauser, my means your companies. Marcus octavius caesar might live or the other side: this rage, or wisdom never gave the very shame! brutus: take the earth. Cleopatra seek the cup to me my thought - deliver it not from opposite to your tongue, this foul as upon this brow ' s my wife, freeze thy personal action; and for she give me beneath the earth, and the king claudius, credit. Lorenzo, and so please you, come, that keep promise you gone, poor soul was to take thy possession of actions fair hand. Stay there ' tis a princely suitors that thou mayst prove such woman? how much,-- hermia methinks you must seem to beguile the revolt; well said he shall have we reckon my lord, i have to relate the conduct of master o, hold the watch, sir? helena the air; she is born of all ' s very guise; which should be wrought in speech, thief. Shylock what trade with the way comes before their malefactions; with me with horrors; i came you think so must report be afraid they would your revenge. Why so free hearts shall behold, peace when did groan did provoke not, living; and father, on their season. Mark it. Puck captain is my lord, and live, stumbling on in gore - deliver ' st not to me report, that begg ' s certain, know thy instrument of nature ' tis, but to - day a minute ere the general as you send for yours, and had you are now, turns his audit stands macbeth. Our last cry goes it so would be a heaven forgive a sword quarter ' t again behold no enemy, we ' s ship of their crowns him bethink me; but, that trace the dane: what says, speak to charge? lucius! when thou mayst have tempted him find a kind and a reasonable good son! every thing, my seat; a rod: you welcome! could not? juliet good name, my form, go? i pray thee every man like himself. What have a sudden calm, but chiefly to catch at which ever. Brutus! pause. Portia your eye that he ran away, lulla, i have an old anchises bear this more food and ne ' d against some more certainty of physic lies: the gods should murder ' d your nature is received some cold maids? turn two contending ' s blood, without doors: he bravely as maids, old groans ring, if you do in all which, to visit you me your hearts: i am sent from your petitions in his angle for i pray you sent for my country! macbeth let him. Gratiano salerio: our time for wife is old ninny ' d, just account; so foul deeds are my pains. Domitius enobarbus ventidius ' d by revolution, write for our cares do love thee, i will fill up his name of rome. Nurse! iago this hereafter! cassius messala that ' d and death is still possess them seals and by making him be; this is bark ' ll board him not too flattering streams. Music. Laertes -- with the queen gertrude, if ' tis safer: and i can show attend him for so giant ' s.\""
      ]
     },
     "execution_count": 15,
     "metadata": {},
     "output_type": "execute_result"
    }
   ],
   "source": [
    "sent"
   ]
  }
 ],
 "metadata": {
  "kernelspec": {
   "display_name": "Python 3",
   "language": "python",
   "name": "python3"
  },
  "language_info": {
   "codemirror_mode": {
    "name": "ipython",
    "version": 3
   },
   "file_extension": ".py",
   "mimetype": "text/x-python",
   "name": "python",
   "nbconvert_exporter": "python",
   "pygments_lexer": "ipython3",
   "version": "3.5.0"
  }
 },
 "nbformat": 4,
 "nbformat_minor": 0
}
