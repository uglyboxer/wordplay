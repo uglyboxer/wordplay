{
 "cells": [
  {
   "cell_type": "markdown",
   "metadata": {},
   "source": [
    "## Inaugural Addresses\n",
    "#### Let's make a new one."
   ]
  },
  {
   "cell_type": "code",
   "execution_count": 17,
   "metadata": {
    "collapsed": false,
    "scrolled": true
   },
   "outputs": [],
   "source": [
    "from nltk.tokenize import word_tokenize\n",
    "from collections import defaultdict\n",
    "import random\n",
    "import glob\n",
    "import re"
   ]
  },
  {
   "cell_type": "markdown",
   "metadata": {},
   "source": [
    "#### Create a dictionary of every word,as keys, and a list of every word that follows each of those as the value.  It is important that words appear repeatedly in the value \"list\"."
   ]
  },
  {
   "cell_type": "code",
   "execution_count": 47,
   "metadata": {
    "collapsed": false
   },
   "outputs": [],
   "source": [
    "d = defaultdict(list)\n",
    "for filename in glob.glob('inaugural/*.txt'):\n",
    "    with open(filename, 'r') as g:\n",
    "        read_data = g.read()\n",
    "    words = word_tokenize(read_data)\n",
    "    words = [word.lower() for word in words]\n",
    "    for pair in zip(words, words[1:]):\n",
    "        d[pair[0]] = d[pair[0]] + [pair[1]]"
   ]
  },
  {
   "cell_type": "markdown",
   "metadata": {},
   "source": [
    "#### Construct new speech."
   ]
  },
  {
   "cell_type": "code",
   "execution_count": 55,
   "metadata": {
    "collapsed": false
   },
   "outputs": [],
   "source": [
    "word = 'fellow'\n",
    "sentence = ['fellow']\n",
    "counter = 0\n",
    "while word and counter < 1200:\n",
    "    if len(d[word]) > 0:\n",
    "        new_word = random.choice(d[word])\n",
    "        sentence += [new_word]\n",
    "        word = new_word\n",
    "    counter += 1\n",
    "sent = ' '.join(sentence)"
   ]
  },
  {
   "cell_type": "markdown",
   "metadata": {},
   "source": [
    "#### Clean up errant spaces and add sentence capitalization."
   ]
  },
  {
   "cell_type": "code",
   "execution_count": 56,
   "metadata": {
    "collapsed": false
   },
   "outputs": [],
   "source": [
    "sent = re.sub(r\"\\s,\", \",\", sent)\n",
    "sent = re.sub(r\"\\s\\.\", \".\", sent)\n",
    "sent = re.sub(r\"\\s;\", \";\", sent)\n",
    "sent = re.sub(r\"\\s\\?\", \"?\", sent)\n",
    "sent = re.sub(r\"\\s\\:\", \":\", sent)\n",
    "sent = re.sub(r\"\\s\\!\", \"!\", sent)\n",
    "sent.replace(\"`` \", \"\")\n",
    "sent = '. '.join(map(lambda s: s.strip().capitalize(), sent.split('.')))\n",
    "sent += '.'"
   ]
  },
  {
   "cell_type": "code",
   "execution_count": 57,
   "metadata": {
    "collapsed": false
   },
   "outputs": [
    {
     "name": "stdout",
     "output_type": "stream",
     "text": [
      "Fellow citizens, came to only attractive field ever vouchsafed to exalt the convenience and the separate rights of a violation and cooperation. For christianity among them in preserving our institutions of believers in our country 's hope and measures. We may be most solemn oath of the chorus of us that he prefers to be exercised, let us stop shouting at ease against which it has conducted on earth: anyone who are vested in dealing, establish colonial control of hostile camps. May occur between slightly differing political -- that most important political but i will bring the presidential office of the principle, whose cordial cooperation of duty and limitations, information of appointment more noble idea but, an american people to present-day americans. The prominent examples of the plainest implication. And state from this oath of our honor the friendly relations. '' -- signifying renewal. Among our material necessity of each new level mountains can be trusted with the people. We do these have sworn i have occurred between duty, which may be openly and the success which the unlawful limitations, at regular force of its opening up, and with hate and through a divine being the causes will of controversies between the standards of you. There, have always subject, in taxation. The days. With millions who preserved american story of harmony so long for the people. Less, make the third of secession? repeated, and courage and tobacco as now greater cooperation. They neither seeking, as it. It will recommend a free religious obligation in their officers, and irresponsible of increasing facilities for the future shall probably will easily framed to adopt such progress has blessed, yes. The abundance what the jurisdiction as well as comports with respect, as moments of opinion are warned by every patriot from its admission on guadalcanal, with the world a strange, and economy in the energy and in the surest foundations of the sight of a conduct. But it has ever devised by the burden of the national importance demands that first honored me, when that system, in the revenue the responsibility, widening their importance which the supreme court. Their own continent until the popular elections, and assist in a lack of no soil within your presence of so in the sudden collapse of business caused a conscientious duty to outweigh the execution, public welfare my office, should not be elected recommends the acts manfully and generous and of government in a man could preserve the true to myself as the purity of these i shall secure the penalties after righteousness and vital to emerge, in their respective constitutional privilege of their example of law on railroads and the executive action in the country. The whole body of power and candid and candid apprehension. There must be pursued when attacked by inclining them by it was throughout the preservation of its influence of the most essential part by a few years it was their own authority is no longer states have already been the future with me here to the ocean. So satisfying and far as it developed a great interests of the government conducting it is opening up with perils would compare the union, can be the genius and happiness of attention, in perpetuating a territory and indecent by a new again: when our national independence of duty to truth -- but adequate to full benefits for some, accompanied the condition of savage life; the upper part of our country believes in the general proposition that life and yet sane economy in the experiment, men of congress and the only if i did not obscured. Societies. The honest men and an orderly transfer of all the provision were made the will find also prosper, he can agree that the world affairs the labor to be denied education. If we wish to useful members of the burdened shoulders of exclusive jurisdiction of the responsibility. We have wisely ordered liberty we reared up for the people against these contests and whose hands, in the rights. Irritated by my countrymen, and immeasurably strengthened by any quarter of living with which made the spoils, should be that they would rather than he led, that, worth a saint of the attributes of danger to invoke the peace and arbitration under a vigilant watch and washington first declared purpose. Events of this great combinations and so every generation of courtesy or to the watchman waketh but louisiana, lives and prudent administration of the judiciary is my part of our country misguided persons applying for responsibility. We have asked, like leaves of a member of all as exciting as well learned, or heed it is correct false opinions in all are needed. And sound discretion to existing problems, in the floridas on the slaveholding states has nothing wrong from one great. It to understand the united states are fraught with conviction and our country and powerful nation. Today, we will of a blow the contentment. Thus securing office, but one. However, mr. Speaker wright, you have a promised land. We seek to every means by the public necessity and the requirement of self-support, with a deeper fulfillment. But as it proceed with compassion for the most responsible and to the consequent upon whom i now read and reformation shall endeavor to be most part of all, science engulf us by business with impunity would endanger its present hour to achieve the adoption as may be at the compromises of a nation does not forget. To promote intelligence and occasional power much younger and control of the farm and blessings of whom we are told of the pecuniary compensation will be aware are sound the most to his career upon the strong among freemen is the result authorizes me by the founders understood that draw constantly at which it is a concentration and its prudent and democracy alone, and to the man here and it would be, and shall always accrue from welfare, or others, the mode in its principles and land to be equally well as our partners in their patriotism and that the pain and religion direct that of the world. We only to admonish us the friends of illiteracy. It. You risk are as a thoughtfully to mitigate human institutions, of my increasing to the purposes of direct the people, to the duties and do not with bravery, by fortifications upon a number. We must protect the members of a greater and from fear that this is essential principle and shared largely in view any other interests, without that high price of the american citizen, justice, civil-service reform in these principles.\n"
     ]
    }
   ],
   "source": [
    "print(sent)"
   ]
  }
 ],
 "metadata": {
  "kernelspec": {
   "display_name": "Python 3",
   "language": "python",
   "name": "python3"
  },
  "language_info": {
   "codemirror_mode": {
    "name": "ipython",
    "version": 3
   },
   "file_extension": ".py",
   "mimetype": "text/x-python",
   "name": "python",
   "nbconvert_exporter": "python",
   "pygments_lexer": "ipython3",
   "version": "3.5.0"
  }
 },
 "nbformat": 4,
 "nbformat_minor": 0
}
