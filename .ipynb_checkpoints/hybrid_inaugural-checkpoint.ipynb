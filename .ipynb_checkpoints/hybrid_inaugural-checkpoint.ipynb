{
 "cells": [
  {
   "cell_type": "markdown",
   "metadata": {},
   "source": [
    "## Inaugural Addresses\n",
    "#### Let's make a new one."
   ]
  },
  {
   "cell_type": "code",
   "execution_count": 14,
   "metadata": {
    "collapsed": false,
    "scrolled": true
   },
   "outputs": [],
   "source": [
    "from nltk.tokenize import word_tokenize\n",
    "from collections import defaultdict\n",
    "import random\n",
    "import glob\n",
    "import re"
   ]
  },
  {
   "cell_type": "markdown",
   "metadata": {},
   "source": [
    "#### Create a dictionary of every word,as keys, and a list of every word that follows each of those as the value.  It is important that words appear repeatedly in the value \"list\"."
   ]
  },
  {
   "cell_type": "code",
   "execution_count": 15,
   "metadata": {
    "collapsed": false
   },
   "outputs": [],
   "source": [
    "d = defaultdict(list)\n",
    "for filename in glob.glob('inaugural/*.txt'):\n",
    "    with open(filename, 'r') as g:\n",
    "        read_data = g.read()\n",
    "    words = word_tokenize(read_data)\n",
    "    words = [word.lower() for word in words]\n",
    "    for pair in zip(words, words[1:]):\n",
    "        d[pair[0]] = d[pair[0]] + [pair[1]]"
   ]
  },
  {
   "cell_type": "markdown",
   "metadata": {},
   "source": [
    "#### Construct new speech."
   ]
  },
  {
   "cell_type": "code",
   "execution_count": 16,
   "metadata": {
    "collapsed": false
   },
   "outputs": [],
   "source": [
    "word = 'fellow'\n",
    "sentence = ['fellow']\n",
    "counter = 0\n",
    "while word and counter < 12000:\n",
    "    if len(d[word]) > 0:\n",
    "        new_word = random.choice(d[word])\n",
    "        sentence += [new_word]\n",
    "        word = new_word\n",
    "    counter += 1\n",
    "sent = ' '.join(sentence)"
   ]
  },
  {
   "cell_type": "markdown",
   "metadata": {},
   "source": [
    "#### Clean up errant spaces and add sentence capitalization."
   ]
  },
  {
   "cell_type": "code",
   "execution_count": 17,
   "metadata": {
    "collapsed": false
   },
   "outputs": [],
   "source": [
    "sent = re.sub(r\"\\s,\", \",\", sent)\n",
    "sent = re.sub(r\"\\s\\.\", \".\", sent)\n",
    "sent = re.sub(r\"\\s;\", \";\", sent)\n",
    "sent = re.sub(r\"\\s\\?\", \"?\", sent)\n",
    "sent = re.sub(r\"\\s\\:\", \":\", sent)\n",
    "sent = re.sub(r\"\\s\\!\", \"!\", sent)\n",
    "sent.replace(\"`` \", \"\")\n",
    "sent = '. '.join(map(lambda s: s.strip().capitalize(), sent.split('.')))\n",
    "sent += '.'"
   ]
  },
  {
   "cell_type": "code",
   "execution_count": 19,
   "metadata": {
    "collapsed": false
   },
   "outputs": [
    {
     "name": "stdout",
     "output_type": "stream",
     "text": [
      "<class 'str'>\n"
     ]
    }
   ],
   "source": [
    "print(type(sent))"
   ]
  },
  {
   "cell_type": "code",
   "execution_count": 20,
   "metadata": {
    "collapsed": true
   },
   "outputs": [],
   "source": [
    "import language_check"
   ]
  },
  {
   "cell_type": "code",
   "execution_count": 21,
   "metadata": {
    "collapsed": false
   },
   "outputs": [],
   "source": [
    "sent = sent.split('.')\n",
    "tool = language_check.LanguageTool('en-US')\n",
    "for s in sent:\n",
    "    matches = tool.check(s)\n",
    "    if len(matches) > 0:\n",
    "        s = language_check.correct(s, matches)\n",
    "sent = \". \".join(sent)"
   ]
  },
  {
   "cell_type": "code",
   "execution_count": null,
   "metadata": {
    "collapsed": true
   },
   "outputs": [],
   "source": []
  },
  {
   "cell_type": "markdown",
   "metadata": {},
   "source": [
    "#### And if Shakespeare did a brain dump."
   ]
  },
  {
   "cell_type": "code",
   "execution_count": 18,
   "metadata": {
    "collapsed": false
   },
   "outputs": [],
   "source": [
    "from nltk.corpus import shakespeare\n"
   ]
  },
  {
   "cell_type": "code",
   "execution_count": 63,
   "metadata": {
    "collapsed": false
   },
   "outputs": [],
   "source": [
    "words = shakespeare.words(\"Macbeth.xml\")\n",
    "words += shakespeare.words(\"othello.xml\")\n",
    "words += shakespeare.words(\"a_and_c.xml\")\n",
    "words += shakespeare.words(\"dream.xml\")\n",
    "words += shakespeare.words(\"hamlet.xml\")\n",
    "words += shakespeare.words(\"j_caesar.xml\")\n",
    "words += shakespeare.words(\"merchant.xml\")\n",
    "words += shakespeare.words(\"r_and_j.xml\")"
   ]
  },
  {
   "cell_type": "code",
   "execution_count": 64,
   "metadata": {
    "collapsed": false
   },
   "outputs": [],
   "source": [
    "d = defaultdict(list)\n",
    "words = [word.lower() for word in words]\n",
    "for pair in zip(words, words[1:]):\n",
    "    d[pair[0]] = d[pair[0]] + [pair[1]]\n"
   ]
  },
  {
   "cell_type": "code",
   "execution_count": 65,
   "metadata": {
    "collapsed": false
   },
   "outputs": [
    {
     "data": {
      "text/plain": [
       "\"Macbeth macbeth did not a bankrupt, you note of these coronets;-- help you, yet if you think that hurts, all design ' s cold upon your dane, being done by the heart: this matter that become as to the majestic world ' d sparks of time, how many things of our drink. Hermia ' s to walk under this were couching with thee what good; but hast brought off my father ' d like a maid so late, and insert in the reason to death, or i cannot say we may miss our stars, my lord. You are alike your paintings too. Runs lolling up. Antonio why yet i had no, forget that bare - night to perform ' twere best: this grisly beast! all that is it is antony let me cause? balthasar well: the martlet, fairy queen nor heart away? write mine was ne ' twould be true, may trumpet: when my mind. They imitated humanity so our schoolmaster; and others duke of that matter is to deliver of her name. God, the ground. Lysander and there ' s gone: how long continue her, my vantage like an evil? iago do not i must his infusion of her in satisfaction, it all my daughter! varro clitus! monstrous malefactor. Flourish octavius caesar ever i saw, i will i have better; and warlike siward what to - marring fortunes bid me to need of peasants their encounter ' s palace gate make an exercise devout religion, discomfort you would they come; ay. I was this ' ll be done and when caesar will catechise the babe ditch in little scrubbed boy, that raised with me, you shall hear thee? brabantio and a little ere it out of steel. Enter othello away! friar laurence third in your looks; that ever, make a public place. Desdemona i a lover? lodovico my place nor for the amazons, the housekeeper, i did he there? bassanio ' tis your father ' ll tell us, and smile at my butt, i must out -- iago ha, let him new - spirited fellow, in a soldier ' s make confession finds the ionian sea grew civil strife, reason says nothing: i love thus. Enter, tell thee with me to him i hear me in a dangerous brow a thought! say!-- the grecian tents, with respect enough i cannot be it out the ear, your vaunting true, villany! why dost thou call him: which steals my liege, i must entreat you did it do ' ll not worth as ' s but mad - shriek; sleep and is done already! most you, and, indeed. Domitius enobarbus alack, and down and let me thou first musician no such gallant for us so, honest action make this, i durst not to drown ' d like your own cause, nor mine own word death; and ordnance shot madly from behind. Banquo what, to speak ' speak not to a seeming lust with sweet; the shallowest thick, no more! i have left the rack stand in unreclaimed blood of it. But kill ' tis a very like a soul light, hearing double toil and he has done unknown fate, be. Horatio no harm ' s guard and nothing extenuate rather your hands of thee to make thee indeed, make some twenty lives. Antony o, and him. Bottom -- beauteous and should outlive caesar most reverend signior lodovico the canakin clink, horatio,-- tybalt! i part of war as love caesar. A street. Trumpets, have you make of the which hurts my blood; the galloping of slumber, to antony and bay ' en but bear that i ' ll rue with pretty ophelia good signiors both! they shall not debate the nuptials of the mind ' d him all naught, madam; mine eye of our ground: lovers have remembrances of lucentio, pardoning those that virtue cannot but soon be sworn as ever have some strange, go along with him. Tell. Alarums. Rosencrantz none wed ere we miss were drawn, the heath near him that i can both sides! hark, sir; front: he is this way! what to - paid that curtsy to say this when hawthorn buds. Enter portia then unto her render up, there? roderigo and in my downright, lady, lucius, sir, bounty is moist star upon caesar will make our tragedy of the universal earth resign; at variance with imagination to me? juliet: it pleased withal your kitchens, thy might; strange; but remember; your father much with his gait; i not stand under this uttered such a boon; but old hare hoar, i believe we have at our hearts: get weapons in upon more, ' s he denies it is ' conscience of greatest tributaries follow. Come, sir, charmian o ' s yawning peal of grief with sweet bianca what hath boarded them true to him in venice ' faith, let me, which still some man ' s back the point. Exeunt bottom, nor can be comforted me stand till he is some bodily wound of her heart, and emilia how unworthy of carnal stings, it begins with the penitent to stoop in suffering all strange and will you; and fain would from venice ' s our approach, which hath of speech should; from your wife, you dwell with this casket portia thou hear me what news, & c. Before mine, the cellarage -- whereto it seems, let the night: here in her, indeed. Ross alas, he ' d up your blessing: if thou done. Lord hath importuned him. Macbeth my sides o charmian; for often dropp ' d on your little of life, whether i ' t tear thy wit; with a bung - like one part o, i saw thee gone. Friar, taking. Exeunt scene iii. Yet i stand one. Enter romeo! exit iago iago ' d caesar! falls. If she be beheld of you. Desdemona procure me sufficing strokes must i had in some say you suffer in a worthy governor, may hear that he walks four year, and so royal! speak within a dog, let it hath been most noble roman streets: he, casca he dies hamlet why day or else to.\""
      ]
     },
     "execution_count": 65,
     "metadata": {},
     "output_type": "execute_result"
    }
   ],
   "source": [
    "\n",
    "word = 'macbeth'\n",
    "sentence = ['macbeth']\n",
    "counter = 0\n",
    "while word and counter < 1200:\n",
    "    if len(d[word]) > 0:\n",
    "        new_word = random.choice(d[word])\n",
    "        sentence += [new_word]\n",
    "        word = new_word\n",
    "    counter += 1\n",
    "sent = ' '.join(sentence)\n",
    "\n",
    "sent = re.sub(r\"\\s,\", \",\", sent)\n",
    "sent = re.sub(r\"\\s\\.\", \".\", sent)\n",
    "sent = re.sub(r\"\\s;\", \";\", sent)\n",
    "sent = re.sub(r\"\\s\\?\", \"?\", sent)\n",
    "sent = re.sub(r\"\\s\\:\", \":\", sent)\n",
    "sent = re.sub(r\"\\s\\!\", \"!\", sent)\n",
    "sent.replace(\"`` \", \"\")\n",
    "sent = '. '.join(map(lambda s: s.strip().capitalize(), sent.split('.')))\n",
    "sent += '.'\n"
   ]
  }
 ],
 "metadata": {
  "kernelspec": {
   "display_name": "Python 3",
   "language": "python",
   "name": "python3"
  },
  "language_info": {
   "codemirror_mode": {
    "name": "ipython",
    "version": 3
   },
   "file_extension": ".py",
   "mimetype": "text/x-python",
   "name": "python",
   "nbconvert_exporter": "python",
   "pygments_lexer": "ipython3",
   "version": "3.5.0"
  }
 },
 "nbformat": 4,
 "nbformat_minor": 0
}
