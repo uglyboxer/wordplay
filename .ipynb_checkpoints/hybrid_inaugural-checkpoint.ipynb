{
 "cells": [
  {
   "cell_type": "markdown",
   "metadata": {},
   "source": [
    "## Inaugural Addresses\n",
    "#### Let's make a new one."
   ]
  },
  {
   "cell_type": "code",
   "execution_count": 1,
   "metadata": {
    "collapsed": false,
    "scrolled": true
   },
   "outputs": [],
   "source": [
    "from nltk.tokenize import word_tokenize\n",
    "from collections import defaultdict\n",
    "import random\n",
    "import glob"
   ]
  },
  {
   "cell_type": "code",
   "execution_count": 2,
   "metadata": {
    "collapsed": false
   },
   "outputs": [],
   "source": [
    "d = defaultdict(list)\n",
    "for filename in glob.glob('inaugural/*.txt'):\n",
    "    with open(filename, 'r') as g:\n",
    "        read_data = g.read()\n",
    "    words = word_tokenize(read_data)\n",
    "    words = [word.lower() for word in words]\n",
    "    for pair in zip(words, words[1:]):\n",
    "        d[pair[0]] = d[pair[0]] + [pair[1]]"
   ]
  },
  {
   "cell_type": "code",
   "execution_count": 3,
   "metadata": {
    "collapsed": false
   },
   "outputs": [
    {
     "data": {
      "text/plain": [
       "\"fellow citizens , together and undeviating adherence to discharge of the only body of material development from among the partisan triumph , combinations that no greater sacrifices borne . a spring new opportunities of one who practice of holy writ may aid to effect . '' with us into the first regular session is with the latter ; men , and the prompt and the apprehensions of the circumstances and a kind of war activities , will throw a continuation of both the duties my friends of those who are denied . is the duties have summoned me . under the productive of the credit , through many places the volunteer or continue it is one citizen of government and freedom of the legislative and liberty of the people , and what we have visited most of military science which , civil-service reform . we attest once again -- in the characters too much by increased as we have done to our common problems of since the people . never can be absolute acquiescence on the calamitous efforts for themselves be found that you may condemn those new spirit of our beloved country ; and south , and will work tirelessly to me . we the duty and fully and texas to the thirteenth and consideration more perfect unification of self-government . is good will not become us baffled and independent people , no lawful lines and housed than has already possessed by fraud , in anticipation of supreme over cynicism , so plainly the united states of southern states when lawfully demanded of the world there is the people of our children are to afford reasonable accommodation of experience . ending inflation to themselves of the topic of those we may exist toward free . it appeals both purposes of nations and consequently those extraordinary events the country has been exhausted ; the homes in peace , to transmit their will be more than in reaffirming the states created by a plain people demands , how much in imitating their work seems to it will in behalf of our history has been united states or there are the lives secure a rock in reducing the nation is not merely , in the true -- senator hatfield , to add those it would rejoice that should seek an army , the use every other departments . negligence , as all . those which they be speedily follow its departments of service of the comfort , i shall be a government does . the government and competency of our nation , know this direction . the faith in what it has no case and more money is not afraid . then to the weight of the powers to keep good faith , we face it is a negative upon public debt ; you can not by the opinion as a day he is a shameful confession of the beauty and free people , know that they will find the regular progress without resorting once it for good to appreciate the forms of pending , unless repelled , the people the suppression of them in all nations should be free people demonstrated the course they did unfriendly or the full of the sum of its purpose . i put them to bear , patriotism , much outside our people needs and encourages me to arm ourselves and more devoted to appreciate the government should be solved by a high degree partake of servitude when looking back the government . under tropic suns in european government or inefficiently organized wrong by combinations of its generosity in his oath i assure a man . we reach this contest conducted with illegal power or he reflects the knowledge are young and our mission of public trust which such obedience to discharge of great objects than a summit unmatched , untamed wilderness , let it does there are rich fringe of our past agony of peace , threatening than half ago might become dangerous accession to it is a fearless eyes catch up to give to respect the ability to its government than an impenetrable aegis , and blessings of war , whose names brethren will provide military resources of us to reiterate all times , we see our example , with today . he has been made by ideals in a slave-holding society ; that reason of it must be without strife , under whom the shepherd in two safeguards against the test of its employees who long afford to the constitution and to be no implied by the principal and aided by failing that ardent prayers of our home and with foreign nations of the will be more american achievement . while the heart is the senate for her exercise of our association in the important tasks will insure the highest degree my duty , among ourselves to enter on through the country . no detriment to peace and defense of its position i fully invested their former can not been impossible that even descending from no more dangerous , used when every continent . i want the constitution , and products of our darkest hours of my best . it is a regime adheres to meet the lines of mind to nationality . we welcome back clocks , vigorous enforcement of its honor . difficult , and efficient service ; which is recognized as the inauguration , inflict evil . another . but to furnish ample to a citizen . but at home , proceeding from conviction . and laws , and wisely and ever-increasing burdens of either of nuclear weapons , at the oath i find meaning in which originate with corresponding benefits realized , and all americans are largely free people can , i hope -- i have sworn to progress . we will ever had not disturb our country , culture , and must now meet ... and provided for disaster supposed to the use that extravagance , and the ability preserve , and an ancient prayer . we have tax rates in war -- each successive steps if we may exist in compliance with impunity would subject upon which it is not just rights and freedom more direct me so many voices in the supreme court procedure as citizens , no separate governments . i had occurred on the enactment of heroes who has been so easily swerved from war with the spirit of the pacific will insure the faint-hearted -- not be done all our faith . instead of the voting both houses of any other people all and caprice of their wars , hoping the economic or among freemen , they can secure the object of national strength and to the massachusetts congress by the constitution and can not distributed . the national interest ; and decay in attaining their kitchen table after much that party to the peoples , who has hitherto circumscribed the union the treasure that will continue to the faithful , and but the whole . out the chance to year among the latter ; a manner of democracy rests . suitably to , indeed , and is the people of its people assembled\""
      ]
     },
     "execution_count": 3,
     "metadata": {},
     "output_type": "execute_result"
    }
   ],
   "source": [
    "word = 'fellow'\n",
    "sentence = ['fellow']\n",
    "counter = 0\n",
    "while word and counter < 1200:\n",
    "    if len(d[word]) > 0:\n",
    "        new_word = random.choice(d[word])\n",
    "        sentence += [new_word]\n",
    "        word = new_word\n",
    "    counter += 1\n",
    "' '.join(sentence)\n",
    "    "
   ]
  }
 ],
 "metadata": {
  "kernelspec": {
   "display_name": "Python 3",
   "language": "python",
   "name": "python3"
  },
  "language_info": {
   "codemirror_mode": {
    "name": "ipython",
    "version": 3
   },
   "file_extension": ".py",
   "mimetype": "text/x-python",
   "name": "python",
   "nbconvert_exporter": "python",
   "pygments_lexer": "ipython3",
   "version": "3.5.0"
  }
 },
 "nbformat": 4,
 "nbformat_minor": 0
}
